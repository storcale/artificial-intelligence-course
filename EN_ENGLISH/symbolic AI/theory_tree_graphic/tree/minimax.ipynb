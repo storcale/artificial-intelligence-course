{
 "cells": [
  {
   "cell_type": "markdown",
   "metadata": {},
   "source": [
    "# Minimax algorithm\n",
    "\n",
    "This algorithm is often used in 2 player games, like chess, checkers, Go or tic tac toe. The aim is to determine the best move to make in a given position.\n",
    "\n",
    "Our algorithm will start by representing the game as a tree. Each node will represent a possible position of the game and each branch will represent a possible move for the player\n",
    "\n",
    "//\n",
    "\n",
    "L'algorithme va ensuite alterner entre deux types de noeuds dans notre arbre. Les noeuds \"MAX\" et les noeuds \"MIN\".\n",
    "- Les noeuds \"MAX\" représentent les positions où c'est au joueur dit MAX de joueur, celui-ci cherche à maximiser son score.\n",
    "- Les noeuds \"MIN\" représente les positions où c'est au joueur dit MIN de joueur, celui-ci cherche à minimiser le score du joueur MAX (ce qui revient à maximiser le score du joueur MIN)\n",
    "\n",
    "L'algorithme pour évaluer les feuilles de l'arbre va utiliser une fonction d'évaluation. Dans le cas des jeux par exemple, cette fonction attribue une valeur à chaque position finale du jeu. Par exemple +1 Si MAX gagne et -1 si MIN gagne et 0 pour un match nul. Les valeurs des feuilles sont propagées le long des branches de l'arbre jusqu'à la racine. A chaque noeud \"MAX\", la valeur maximale de ses fils est propagés vers le haut (on remonte l'arbre). En revanche à chaque noeud \"MIN\", c'est la valeur minimale de ses fils qui est propagé vers le haut. Pour choisir le meilleur coup quand toute les valeurs ont été propagé jusqu'à notre racine, on choisit le coup qui mène à la position avec la valeur maximale (la plus grande par exemple). Ce coup est considéré comme le meilleur coup à joueur dans la position actuelle.\n",
    "\n",
    "## Créer l'algorithme du minimax \n",
    "\n",
    "Ici nous allons écrire notre algorithme en pseudo-code afin de mieux comprendre les étapes"
   ]
  }
 ],
 "metadata": {
  "language_info": {
   "name": "python"
  }
 },
 "nbformat": 4,
 "nbformat_minor": 2
}
